{
 "cells": [
  {
   "cell_type": "code",
   "execution_count": 12,
   "id": "b1536089",
   "metadata": {},
   "outputs": [],
   "source": [
    "# import utils used in previous notebooks and some more\n",
    "from llm_challenge.utils.misc import set_openai_api_key, get_completion, read_dict_from_json, write_dict_to_json, read_text\n",
    "\n",
    "\n",
    "from pathlib import Path\n",
    "from tqdm import tqdm\n",
    "import time"
   ]
  },
  {
   "cell_type": "code",
   "execution_count": 13,
   "id": "cc290a65",
   "metadata": {},
   "outputs": [],
   "source": [
    "# set api\n",
    "set_openai_api_key()"
   ]
  },
  {
   "cell_type": "code",
   "execution_count": 14,
   "id": "a7de0ccb",
   "metadata": {},
   "outputs": [
    {
     "data": {
      "text/plain": [
       "{'question': 'What is the recommended range for the value of C1 in the LTC7804 module and why is it chosen in that range?',\n",
       " 'answer': 'The recommended range for the value of C1 in the LTC7804 module is 0.1μF to 0.47μF. It is chosen in that range to force R1 || R2 to around 2k, reducing error that might have been caused by the SENSE− pin’s ±1μA current.',\n",
       " 'datasheet': 'parsed/ltc7804.txt'}"
      ]
     },
     "execution_count": 14,
     "metadata": {},
     "output_type": "execute_result"
    }
   ],
   "source": [
    "# let's reproduce the question here:\n",
    "\n",
    "dset = 'tutorial'\n",
    "#set the path to the challenge dataset\n",
    "DATA_DIR = '../data'\n",
    "qas_dict = read_dict_from_json(f\"{DATA_DIR}/qas/qas_{dset}.json\")\n",
    "\n",
    "q_id = \"50\"\n",
    "qas_dict[q_id]"
   ]
  },
  {
   "cell_type": "code",
   "execution_count": 15,
   "id": "cdca4c90",
   "metadata": {},
   "outputs": [
    {
     "data": {
      "text/plain": [
       "['../data/datasheets/parsed/6416f.txt',\n",
       " '../data/datasheets/parsed/ltc7804.txt',\n",
       " '../data/datasheets/parsed/DS28E04-100.txt',\n",
       " '../data/datasheets/parsed/ADV7611.txt']"
      ]
     },
     "execution_count": 15,
     "metadata": {},
     "output_type": "execute_result"
    }
   ],
   "source": [
    "# let's consider the pool of datasheets from which answers were taken...\n",
    "doc_fnames = list(set([DATA_DIR + \"/datasheets/\" + qa_dict[\"datasheet\"]  for qa_dict in qas_dict.values()]))\n",
    "doc_fnames"
   ]
  },
  {
   "cell_type": "code",
   "execution_count": 16,
   "id": "d8b56b87",
   "metadata": {},
   "outputs": [
    {
     "name": "stdout",
     "output_type": "stream",
     "text": [
      "../data/datasheets/parsed/ltc7804.txt\n"
     ]
    }
   ],
   "source": [
    "# let's pull the datasheet for question 50\n",
    "doc_idx = doc_fnames.index(str(DATA_DIR + \"/datasheets/parsed/ltc7804.txt\"))\n",
    "print(doc_fnames[doc_idx])\n",
    "text = read_text(doc_fnames[doc_idx])"
   ]
  },
  {
   "cell_type": "code",
   "execution_count": 17,
   "id": "16dd4a6f",
   "metadata": {},
   "outputs": [],
   "source": [
    "#     I will give you a peice of text from electrical/electronic module's datashet delimted by ---\n",
    "#     Your task is to answer question that follows the text based on the provided text.\n",
    "#     If the text does not contain sufficient information to answer, simple say I do not know.\n",
    "\n",
    "prompt = \"\"\"\n",
    "I will give you a peice of text from electrical/electronic module's datashet delimted by ---\n",
    "Your task is to give a detailed answer to the question that follows the text based on the provided text.\n",
    "If the text does not contain sufficient information to answer, just output `IDK`.\n",
    "\n",
    "Here is the text:\n",
    "---\n",
    "{text}\n",
    "---\n",
    "Question: {question}\n",
    "Answer:\n",
    "\"\"\"\n",
    "# MAXIMUM TOKEN FAILURE!\n",
    "#get_completion(prompt.format(text=text, question=qas_dict[q_id][\"question\"]))\n",
    "\n"
   ]
  },
  {
   "cell_type": "code",
   "execution_count": 18,
   "id": "175405f3",
   "metadata": {},
   "outputs": [
    {
     "data": {
      "text/plain": [
       "'Based on the provided text, there is no specific information about the recommended range for the value of C1 in the LTC7804 module. Therefore, the answer is \"IDK\".'"
      ]
     },
     "execution_count": 18,
     "metadata": {},
     "output_type": "execute_result"
    }
   ],
   "source": [
    "# one token is roughly 4 characters (let's be over-conservative)\n",
    "context_length = 2 * 4000\n",
    "get_completion(prompt.format(text=text[:context_length], question=qas_dict[q_id][\"question\"]))"
   ]
  },
  {
   "cell_type": "code",
   "execution_count": 19,
   "id": "767110f0",
   "metadata": {},
   "outputs": [
    {
     "data": {
      "text/plain": [
       "\"The recommended range for the value of C1 in the LTC7804 module is 0.1μF to 0.47μF. This range is chosen to reduce the error caused by the SENSE- pin's ±1μA current. By selecting C1 in this range, the target equivalent resistance R1 || R2 is calculated, which helps in determining the sense resistor values. Additionally, choosing C1 in this range helps in reducing the power loss in R1 and ensures higher efficiency at light loads.\""
      ]
     },
     "execution_count": 19,
     "metadata": {},
     "output_type": "execute_result"
    }
   ],
   "source": [
    "start_idx = text.rfind('C1 value')\n",
    "get_completion(prompt.format(text=text[start_idx-context_length // 2: start_idx + context_length//2], question=qas_dict[q_id][\"question\"]))"
   ]
  },
  {
   "cell_type": "code",
   "execution_count": 20,
   "id": "c6a469d7",
   "metadata": {},
   "outputs": [
    {
     "data": {
      "text/plain": [
       "'The recommended range for the value of C1 in the LTC7804 module is 0.1μF to 0.47μF. It is chosen in that range to force R1 || R2 to around 2k, reducing error that might have been caused by the SENSE− pin’s ±1μA current.'"
      ]
     },
     "execution_count": 20,
     "metadata": {},
     "output_type": "execute_result"
    }
   ],
   "source": [
    "qas_dict[q_id][\"answer\"]"
   ]
  },
  {
   "cell_type": "code",
   "execution_count": 21,
   "id": "e0b973b5",
   "metadata": {},
   "outputs": [],
   "source": [
    "# besides generating texts, llms give us embeddings ...\n",
    "# let's see if embeddings can help us with the two-stage search/quest for the right context.\n",
    "# embeddings ..."
   ]
  },
  {
   "cell_type": "markdown",
   "id": "9f9c7152",
   "metadata": {},
   "source": [
    "### Embeddings \n",
    "```\n",
    "OpenAI’s text embeddings measure the relatedness of text strings. Embeddings are commonly used for:\n",
    "\n",
    "Search (where results are ranked by relevance to a query string)\n",
    "Clustering (where text strings are grouped by similarity)\n",
    "Recommendations (where items with related text strings are recommended)\n",
    "Anomaly detection (where outliers with little relatedness are identified)\n",
    "Diversity measurement (where similarity distributions are analyzed)\n",
    "Classification (where text strings are classified by their most similar label)\n",
    "An embedding is a vector (list) of floating point numbers. The distance between two vectors measures their relatedness. Small distances suggest high relatedness and large distances suggest low relatedness.\n",
    "```\n",
    "From https://platform.openai.com/docs/guides/embeddings/what-are-embeddings"
   ]
  },
  {
   "cell_type": "code",
   "execution_count": 22,
   "id": "83e78f16",
   "metadata": {},
   "outputs": [],
   "source": [
    "import openai\n",
    "import numpy as np\n",
    "import matplotlib.pyplot as plt\n",
    "\n",
    "def get_embedding(text, model=\"text-embedding-ada-002\"):\n",
    "   text = text.replace(\"\\n\", \" \")\n",
    "   return np.array(openai.Embedding.create(input = [text], model=model)['data'][0]['embedding'])\n",
    "\n"
   ]
  },
  {
   "cell_type": "code",
   "execution_count": 23,
   "id": "ac78a5f7",
   "metadata": {},
   "outputs": [],
   "source": [
    "texts = [\n",
    "    \"Boston is in the US.\",\n",
    "    \"Paris is in France.\",\n",
    "    \"Rome is in Italy.\",\n",
    "    \"ahead of what is possible.\",\n",
    "    \"it will rain tomorrow\",\n",
    "    \"it rained a lot yesterday\",\n",
    "    \"it is pouring\"\n",
    "]\n",
    "embeddings = [get_embedding(text) for text in texts]"
   ]
  },
  {
   "cell_type": "code",
   "execution_count": 24,
   "id": "6ec02033",
   "metadata": {},
   "outputs": [
    {
     "data": {
      "image/png": "[encoded data removed]",
      "text/plain": [
       "<Figure size 480x480 with 2 Axes>"
      ]
     },
     "metadata": {},
     "output_type": "display_data"
    }
   ],
   "source": [
    "relatedness = [[se.dot(te) for te in embeddings] for se in embeddings]\n",
    "\n",
    "plt.matshow(relatedness,cmap=plt.cm.Greens)\n",
    "_ = plt.colorbar()\n",
    "_ = plt.title(\"Similarity matrix of texts listed above\")"
   ]
  },
  {
   "cell_type": "code",
   "execution_count": 25,
   "id": "d14cf210",
   "metadata": {},
   "outputs": [
    {
     "name": "stdout",
     "output_type": "stream",
     "text": [
      "Embeddings file does exist.\n",
      "Set `is_generate_ef` to True if you would like to recompute it.\n"
     ]
    }
   ],
   "source": [
    "embeddings_fname = f\"{DATA_DIR}/qas/embeddings_{dset}.npz\"\n",
    "is_ef_exists = Path(embeddings_fname).exists()\n",
    "print(\"Embeddings file does\" + \" exist.\" if is_ef_exists else \" not exist.\")\n",
    "print(\"Set `is_generate_ef` to True if you would like to recompute it.\")"
   ]
  },
  {
   "cell_type": "code",
   "execution_count": 26,
   "id": "d45c2a58",
   "metadata": {},
   "outputs": [
    {
     "name": "stdout",
     "output_type": "stream",
     "text": [
      "loading embeddings from disk\n"
     ]
    }
   ],
   "source": [
    "is_generate_ef = False\n",
    "\n",
    "if is_ef_exists and not is_generate_ef:\n",
    "    print(\"loading embeddings from disk\")\n",
    "    # if we have previously created the emebeddings\n",
    "    embeddings_data = np.load(embeddings_fname)\n",
    "    embeddings, texts = embeddings_data[\"embeddings\"], embeddings_data[\"texts\"]\n",
    "elif is_generate_ef:\n",
    "    # let's read all texts and split them into chunks of permissible context length\n",
    "    texts = []\n",
    "    for df in doc_fnames:\n",
    "        text = read_text(df)\n",
    "        texts += [text[i:i+context_length] for i in range(0, len(text), context_length)]\n",
    "\n",
    "    embeddings = []\n",
    "    for text in texts:\n",
    "        embeddings.append(get_embedding(text))\n",
    "\n",
    "    # save\n",
    "    np.savez(embeddings_fname, embeddings=embeddings, texts=texts)\n",
    "else:\n",
    "    print(\"\"\"It looks like there no embeddings file.\n",
    "    Set `is_generate_ef` to True to create it.\"\"\")"
   ]
  },
  {
   "cell_type": "code",
   "execution_count": 27,
   "id": "7562387a",
   "metadata": {},
   "outputs": [],
   "source": [
    "question = qas_dict[q_id][\"question\"]"
   ]
  },
  {
   "cell_type": "code",
   "execution_count": 28,
   "id": "456d6376",
   "metadata": {},
   "outputs": [],
   "source": [
    "question_embedding = get_embedding(question)"
   ]
  },
  {
   "cell_type": "code",
   "execution_count": 29,
   "id": "e5bc45d9",
   "metadata": {},
   "outputs": [],
   "source": [
    "context_embeddings = np.array(embeddings)"
   ]
  },
  {
   "cell_type": "code",
   "execution_count": 30,
   "id": "0238777d",
   "metadata": {},
   "outputs": [
    {
     "name": "stdout",
     "output_type": "stream",
     "text": [
      "16\n"
     ]
    }
   ],
   "source": [
    "for idx, text in enumerate(texts):\n",
    "    if text.rfind('C1 value')> -1:\n",
    "        print(idx)"
   ]
  },
  {
   "cell_type": "code",
   "execution_count": 31,
   "id": "00f6ba70",
   "metadata": {},
   "outputs": [
    {
     "data": {
      "image/png": "[encoded data removed]",
      "text/plain": [
       "<Figure size 640x480 with 1 Axes>"
      ]
     },
     "metadata": {},
     "output_type": "display_data"
    }
   ],
   "source": [
    "query_embedding = question_embedding\n",
    "relatedness_score = context_embeddings.dot(query_embedding)\n",
    "_ = plt.plot(relatedness_score)\n",
    "top_idxs = np.argsort(-relatedness_score)\n",
    "selected_by_relatedness_context = texts[top_idxs[5]]"
   ]
  },
  {
   "cell_type": "code",
   "execution_count": 32,
   "id": "f3033736",
   "metadata": {},
   "outputs": [
    {
     "data": {
      "text/plain": [
       "array([0.83925435, 0.83298595, 0.83269104, 0.83198635, 0.82802775,\n",
       "       0.82522633, 0.82122201, 0.81817733, 0.81711798, 0.81561711,\n",
       "       0.81513555, 0.80975971, 0.80485753, 0.79868318, 0.79850177,\n",
       "       0.79195493, 0.78727116, 0.78479716, 0.78302251, 0.77922469,\n",
       "       0.77579904, 0.77015425, 0.7692962 , 0.7645332 , 0.76133758,\n",
       "       0.75404574, 0.75365762, 0.75329802, 0.74731251, 0.74494939,\n",
       "       0.74385823, 0.74357613, 0.73831445, 0.72992255])"
      ]
     },
     "execution_count": 32,
     "metadata": {},
     "output_type": "execute_result"
    }
   ],
   "source": [
    "relatedness_score[top_idxs]"
   ]
  },
  {
   "cell_type": "code",
   "execution_count": 33,
   "id": "4c7cca21",
   "metadata": {},
   "outputs": [
    {
     "data": {
      "text/plain": [
       "'Based on the provided text, there is no specific information about the recommended range for the value of C1 in the LTC7804 module. Therefore, the answer is \"IDK\".'"
      ]
     },
     "execution_count": 33,
     "metadata": {},
     "output_type": "execute_result"
    }
   ],
   "source": [
    "get_completion(prompt.format(text=texts[top_idxs[0]], question=question))"
   ]
  },
  {
   "cell_type": "code",
   "execution_count": 34,
   "id": "a5da3b7e",
   "metadata": {},
   "outputs": [
    {
     "data": {
      "text/plain": [
       "'The recommended range for the value of C1 in the LTC7804 module is 0.1μF to 0.47μF. This range is chosen to reduce error that might have been caused by the SENSE− pin’s ±1μA current. By selecting C1 in this range, it forces R1 || R2 to be around 2k, which helps to minimize any error caused by the current flowing through the SENSE- pin. This ensures accurate sensing of the voltage drop across the inductor DCR and improves the overall performance and efficiency of the module.'"
      ]
     },
     "execution_count": 34,
     "metadata": {},
     "output_type": "execute_result"
    }
   ],
   "source": [
    "get_completion(prompt.format(text=texts[top_idxs[5]], question=question))"
   ]
  },
  {
   "cell_type": "code",
   "execution_count": 35,
   "id": "9f03c6e0",
   "metadata": {},
   "outputs": [
    {
     "name": "stdout",
     "output_type": "stream",
     "text": [
      "Retrieved text does not contain sufficient information.\n",
      "Retrieved text does not contain sufficient information.\n",
      "Retrieved text does not contain sufficient information.\n",
      "Retrieved text does not contain sufficient information.\n",
      "Retrieved text does not contain sufficient information.\n",
      "The recommended range for the value of C1 in the LTC7804 module is 0.1μF to 0.47μF. This range is chosen to reduce error that might have been caused by the SENSE− pin’s ±1μA current. By selecting C1 in this range, it forces R1 || R2 to be around 2k, which helps to minimize any error caused by the current flowing through the SENSE- pin. This ensures accurate sensing of the voltage drop across the inductor DCR and improves the overall performance and efficiency of the module.\n"
     ]
    }
   ],
   "source": [
    "# something like iterate over the top retrieved texts till I do not know is not returned.\n",
    "for _ in range(10):\n",
    "    answer = get_completion(prompt.format(text=texts[top_idxs[_]], question=question))\n",
    "    if 'IDK' not in answer: \n",
    "        break\n",
    "    else:\n",
    "        print(\"Retrieved text does not contain sufficient information.\")\n",
    "print(answer)"
   ]
  },
  {
   "cell_type": "code",
   "execution_count": 44,
   "id": "eb6a76cf",
   "metadata": {},
   "outputs": [],
   "source": [
    "# Note: one might ask why not just brute-force our dataset till you hit the answer and you certainly can!\n",
    "# but this takes a hit on number of calls made to LLM.\n",
    "# https://github.com/hwchase17/langchain/blob/57f370cde97fb3f2c836cbc0dc764be55a571d5a/langchain/callbacks/openai_info.py#L7\n",
    "MODEL_COST_PER_1K_TOKENS_GPT3P5 = 0.0015"
   ]
  },
  {
   "cell_type": "code",
   "execution_count": 45,
   "id": "3f515ba1",
   "metadata": {},
   "outputs": [
    {
     "name": "stdout",
     "output_type": "stream",
     "text": [
      "2869\n"
     ]
    }
   ],
   "source": [
    "_, num_tokens = get_completion(prompt.format(text=texts[top_idxs[0]], question=question), is_return_total_tokens=True)\n",
    "print(num_tokens)"
   ]
  },
  {
   "cell_type": "code",
   "execution_count": 46,
   "id": "897366e8",
   "metadata": {},
   "outputs": [
    {
     "name": "stdout",
     "output_type": "stream",
     "text": [
      "Total cost for LLM calls: $4303.5\n"
     ]
    }
   ],
   "source": [
    "num_tokens = 2869\n",
    "TOP_K = 1000\n",
    "CONTEXT_LENGTH_IN_K_TOKENS = num_tokens * 1e-3\n",
    "NUM_QUESTIONS = 1000\n",
    "# MODEL_COST_PER_1K_TOKENS_GPT3P5 * TOP_K * CONTEXT_LENGTH_IN_K_TOKENS * NUM_QUESTIONS\n",
    "total_cost_fn = lambda num_tokens: 1e-3 * MODEL_COST_PER_1K_TOKENS_GPT3P5 *  num_tokens \n",
    "\n",
    "print(f\"Total cost for LLM calls: ${total_cost_fn(num_tokens) * TOP_K * NUM_QUESTIONS}\")"
   ]
  },
  {
   "cell_type": "code",
   "execution_count": 39,
   "id": "5c185695",
   "metadata": {},
   "outputs": [],
   "source": [
    "def get_answer(question, top_k=6):\n",
    "    question_embedding = get_embedding(question)\n",
    "    relatedness_score = context_embeddings.dot(question_embedding)\n",
    "    top_idxs = np.argsort(-relatedness_score)\n",
    "    total_num_tokens = 0\n",
    "    for _ in range(top_k):\n",
    "        selected_by_relatedness_context = texts[top_idxs[_]]\n",
    "        answer, num_tokens = get_completion(prompt.format(\n",
    "            text=selected_by_relatedness_context, \n",
    "            question=question),is_return_total_tokens=True)\n",
    "        total_num_tokens += num_tokens\n",
    "        if 'IDK' in answer:\n",
    "            continue\n",
    "        else:\n",
    "            break\n",
    "    return answer, total_num_tokens\n",
    "    \n",
    "    "
   ]
  },
  {
   "cell_type": "code",
   "execution_count": 49,
   "id": "3a2d134e",
   "metadata": {},
   "outputs": [
    {
     "name": "stderr",
     "output_type": "stream",
     "text": [
      "100%|██████████████████████████████████████████████████████████████████████████████████████████████| 5/5 [00:20<00:00,  4.07s/it]\n"
     ]
    }
   ],
   "source": [
    "# let's try answer all question in the dataset:\n",
    "\n",
    "answers_with_numpy = {}\n",
    "max_retries = 5\n",
    "total_num_tokens = 0\n",
    "\n",
    "for q_id, qa_dict in tqdm(qas_dict.items()):\n",
    "    num_tries = 0\n",
    "    while num_tries < max_retries:\n",
    "        try:\n",
    "            time.sleep(0.5)\n",
    "            answer, num_tokens = get_answer(qa_dict[\"question\"])\n",
    "            total_num_tokens += num_tokens\n",
    "            break\n",
    "        except Exception as e:\n",
    "            answer = 'can not answer.'\n",
    "            num_tries +=1\n",
    "\n",
    "    answers_with_numpy[q_id] = answer"
   ]
  },
  {
   "cell_type": "code",
   "execution_count": 50,
   "id": "4b74273a",
   "metadata": {},
   "outputs": [
    {
     "name": "stdout",
     "output_type": "stream",
     "text": [
      "Finished answering questions using (USD) $0.04166 \n"
     ]
    }
   ],
   "source": [
    "print(f\"Finished answering questions using (USD) ${total_cost_fn(total_num_tokens):.5f} \")"
   ]
  },
  {
   "cell_type": "code",
   "execution_count": 59,
   "id": "a903f8bc",
   "metadata": {},
   "outputs": [],
   "source": [
    "write_dict_to_json(f\"gpt3p5-with-top6-embeddings_{dset}.json\", answers_with_numpy)"
   ]
  },
  {
   "cell_type": "code",
   "execution_count": null,
   "id": "a8274bb6",
   "metadata": {},
   "outputs": [],
   "source": [
    "# this gets us 77.5% accuracy on training set\n",
    "# 100% on tutorial set."
   ]
  },
  {
   "cell_type": "code",
   "execution_count": 48,
   "id": "05423ce6",
   "metadata": {},
   "outputs": [
    {
     "data": {
      "text/plain": [
       "37798"
      ]
     },
     "execution_count": 48,
     "metadata": {},
     "output_type": "execute_result"
    }
   ],
   "source": [
    "total_num_tokens"
   ]
  },
  {
   "cell_type": "code",
   "execution_count": null,
   "id": "63e3e616",
   "metadata": {},
   "outputs": [],
   "source": []
  }
 ],
 "metadata": {
  "kernelspec": {
   "display_name": "Python 3 (ipykernel)",
   "language": "python",
   "name": "python3"
  },
  "language_info": {
   "codemirror_mode": {
    "name": "ipython",
    "version": 3
   },
   "file_extension": ".py",
   "mimetype": "text/x-python",
   "name": "python",
   "nbconvert_exporter": "python",
   "pygments_lexer": "ipython3",
   "version": "3.8.15"
  }
 },
 "nbformat": 4,
 "nbformat_minor": 5
}
